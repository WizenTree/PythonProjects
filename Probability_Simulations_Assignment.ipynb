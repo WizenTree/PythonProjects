{
 "cells": [
  {
   "cell_type": "markdown",
   "id": "54037d37",
   "metadata": {},
   "source": [
    "# Probability Simulations and Concepts\n",
    "This notebook covers simulations and computations for basic and advanced probability concepts using Python."
   ]
  },
  {
   "cell_type": "markdown",
   "id": "8b22d4a3",
   "metadata": {},
   "source": [
    "## 1. Basics of Probability\n",
    "This section simulates:\n",
    "- Tossing a coin 10,000 times to estimate the probability of heads and tails.\n",
    "- Rolling two dice to estimate the probability of getting a sum of 7."
   ]
  },
  {
   "cell_type": "code",
   "execution_count": null,
   "id": "cf3e1fb6",
   "metadata": {},
   "outputs": [],
   "source": [
    "import random\n",
    "\n",
    "# Part 1a: Coin toss simulation\n",
    "def simulate_coin_tosses(num_tosses=10000):\n",
    "    heads = 0\n",
    "    for _ in range(num_tosses):\n",
    "        if random.choice([\"Heads\", \"Tails\"]) == \"Heads\":\n",
    "            heads += 1\n",
    "    tails = num_tosses - heads\n",
    "    print(\"Coin Toss Simulation:\")\n",
    "    print(f\"  Heads: {heads} ({heads / num_tosses:.4f})\")\n",
    "    print(f\"  Tails: {tails} ({tails / num_tosses:.4f})\")\n",
    "\n",
    "# Part 1b: Two dice sum of 7 simulation\n",
    "def simulate_dice_sum_7(num_rolls=10000):\n",
    "    count_7 = 0\n",
    "    for _ in range(num_rolls):\n",
    "        die1 = random.randint(1, 6)\n",
    "        die2 = random.randint(1, 6)\n",
    "        if die1 + die2 == 7:\n",
    "            count_7 += 1\n",
    "    print(\"\\nDice Roll Simulation:\")\n",
    "    print(f\"  Sum of 7: {count_7} ({count_7 / num_rolls:.4f})\")\n",
    "\n",
    "simulate_coin_tosses()\n",
    "simulate_dice_sum_7()"
   ]
  },
  {
   "cell_type": "markdown",
   "id": "1aaa2ae5",
   "metadata": {},
   "source": [
    "## 2. Probability of At Least One Six\n",
    "This function estimates the probability of getting at least one '6' in 10 rolls of a fair die."
   ]
  },
  {
   "cell_type": "code",
   "execution_count": null,
   "id": "cf4ef8fe",
   "metadata": {},
   "outputs": [],
   "source": [
    "def probability_at_least_one_six(trials=10000):\n",
    "    success = 0\n",
    "    for _ in range(trials):\n",
    "        if 6 in [random.randint(1, 6) for _ in range(10)]:\n",
    "            success += 1\n",
    "    print(\"\\nProbability of at least one '6' in 10 rolls:\")\n",
    "    print(f\"  Successful trials: {success}/{trials}\")\n",
    "    print(f\"  Estimated probability: {success / trials:.4f}\")\n",
    "\n",
    "probability_at_least_one_six()"
   ]
  },
  {
   "cell_type": "markdown",
   "id": "291de4b7",
   "metadata": {},
   "source": [
    "## 3. Conditional Probability and Bayes' Theorem\n",
    "Simulate drawing balls from a bag with replacement and compute conditional probabilities."
   ]
  },
  {
   "cell_type": "code",
   "execution_count": null,
   "id": "b2fc6b50",
   "metadata": {},
   "outputs": [],
   "source": [
    "def simulate_bag_draws(trials=1000):\n",
    "    colors = ['Red'] * 5 + ['Green'] * 7 + ['Blue'] * 8\n",
    "    previous_color = None\n",
    "    total_blue_then_red = 0\n",
    "    total_prev_blue = 0\n",
    "\n",
    "    for _ in range(trials):\n",
    "        current_color = random.choice(colors)\n",
    "        if previous_color == 'Blue':\n",
    "            total_prev_blue += 1\n",
    "            if current_color == 'Red':\n",
    "                total_blue_then_red += 1\n",
    "        previous_color = current_color\n",
    "\n",
    "    if total_prev_blue > 0:\n",
    "        conditional_prob = total_blue_then_red / total_prev_blue\n",
    "    else:\n",
    "        conditional_prob = 0.0\n",
    "\n",
    "    print(\"\\nConditional Probability Simulation:\")\n",
    "    print(f\"  P(Red | previous was Blue): {conditional_prob:.4f}\")\n",
    "\n",
    "simulate_bag_draws()"
   ]
  },
  {
   "cell_type": "markdown",
   "id": "8087acdc",
   "metadata": {},
   "source": [
    "## 4. Random Variables and Discrete Probability\n",
    "Generate a sample of size 1000 from a discrete distribution and compute the empirical mean, variance, and standard deviation."
   ]
  },
  {
   "cell_type": "code",
   "execution_count": null,
   "id": "fbf8980c",
   "metadata": {},
   "outputs": [],
   "source": [
    "import numpy as np\n",
    "\n",
    "def analyze_discrete_distribution():\n",
    "    values = [1, 2, 3]\n",
    "    probs = [0.25, 0.35, 0.4]\n",
    "    sample = np.random.choice(values, size=1000, p=probs)\n",
    "\n",
    "    mean = np.mean(sample)\n",
    "    variance = np.var(sample)\n",
    "    std_dev = np.std(sample)\n",
    "\n",
    "    print(\"\\nDiscrete Random Variable Analysis:\")\n",
    "    print(f\"  Mean: {mean:.4f}\")\n",
    "    print(f\"  Variance: {variance:.4f}\")\n",
    "    print(f\"  Std Dev: {std_dev:.4f}\")\n",
    "\n",
    "analyze_discrete_distribution()"
   ]
  },
  {
   "cell_type": "markdown",
   "id": "c49d580b",
   "metadata": {},
   "source": [
    "## 5. Continuous Random Variables\n",
    "Simulate samples from an exponential distribution and visualize using a histogram and a PDF."
   ]
  },
  {
   "cell_type": "code",
   "execution_count": null,
   "id": "427153bb",
   "metadata": {},
   "outputs": [],
   "source": [
    "import matplotlib.pyplot as plt\n",
    "import seaborn as sns\n",
    "\n",
    "def simulate_exponential_distribution():\n",
    "    data = np.random.exponential(scale=5, size=2000)\n",
    "\n",
    "    plt.figure(figsize=(10, 5))\n",
    "    sns.histplot(data, kde=True, stat=\"density\", bins=30, color='skyblue', label=\"Histogram + PDF\")\n",
    "    plt.title(\"Exponential Distribution (mean=5)\")\n",
    "    plt.xlabel(\"Value\")\n",
    "    plt.ylabel(\"Density\")\n",
    "    plt.legend()\n",
    "    plt.show()\n",
    "\n",
    "simulate_exponential_distribution()"
   ]
  },
  {
   "cell_type": "markdown",
   "id": "36a554d7",
   "metadata": {},
   "source": [
    "## 6. Central Limit Theorem\n",
    "Simulate the CLT by showing how sample means from a uniform distribution approximate a normal distribution."
   ]
  },
  {
   "cell_type": "code",
   "execution_count": null,
   "id": "1bf988e7",
   "metadata": {},
   "outputs": [],
   "source": [
    "def simulate_clt():\n",
    "    population = np.random.uniform(0, 1, 10000)\n",
    "    sample_means = []\n",
    "\n",
    "    for _ in range(1000):\n",
    "        sample = np.random.choice(population, size=30)\n",
    "        sample_means.append(np.mean(sample))\n",
    "\n",
    "    plt.figure(figsize=(12, 5))\n",
    "\n",
    "    plt.subplot(1, 2, 1)\n",
    "    sns.histplot(population, kde=True, bins=30, color='lightgreen')\n",
    "    plt.title(\"Original Uniform Distribution\")\n",
    "\n",
    "    plt.subplot(1, 2, 2)\n",
    "    sns.histplot(sample_means, kde=True, bins=30, color='salmon')\n",
    "    plt.title(\"Sampling Distribution of Sample Means (n=30)\")\n",
    "\n",
    "    plt.tight_layout()\n",
    "    plt.show()\n",
    "\n",
    "simulate_clt()"
   ]
  }
 ],
 "metadata": {
  "kernelspec": {
   "display_name": "Python 3",
   "name": "python3"
  },
  "language_info": {
   "name": "python",
   "version": "3.11"
  }
 },
 "nbformat": 4,
 "nbformat_minor": 5
}